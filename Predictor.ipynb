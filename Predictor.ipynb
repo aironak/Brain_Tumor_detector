{
  "nbformat": 4,
  "nbformat_minor": 0,
  "metadata": {
    "colab": {
      "name": "Predictor.ipynb",
      "provenance": [],
      "collapsed_sections": []
    },
    "kernelspec": {
      "name": "python3",
      "display_name": "Python 3"
    },
    "language_info": {
      "name": "python"
    }
  },
  "cells": [
    {
      "cell_type": "code",
      "source": [
        "import tensorflow as tf\n",
        "import keras\n",
        "from keras.models import load_model\n",
        "import seaborn as sns\n",
        "import pandas as pd\n",
        "import matplotlib.pyplot as plt\n"
      ],
      "metadata": {
        "id": "YJMqB4qtnahA"
      },
      "execution_count": 18,
      "outputs": []
    },
    {
      "cell_type": "code",
      "source": [
        "from google.colab import drive\n",
        "drive.mount('/content/drive')\n"
      ],
      "metadata": {
        "id": "uqwIoSZqdWfG",
        "colab": {
          "base_uri": "https://localhost:8080/"
        },
        "outputId": "c552be69-6cf1-4ae2-ba99-491f10021071"
      },
      "execution_count": 19,
      "outputs": [
        {
          "output_type": "stream",
          "name": "stdout",
          "text": [
            "Drive already mounted at /content/drive; to attempt to forcibly remount, call drive.mount(\"/content/drive\", force_remount=True).\n"
          ]
        }
      ]
    },
    {
      "cell_type": "code",
      "source": [
        "image_size = (256,256)\n",
        "class_names = [ 'meningioma','glioma', 'pituitary']"
      ],
      "metadata": {
        "id": "epPjxRkpf6bB"
      },
      "execution_count": 20,
      "outputs": []
    },
    {
      "cell_type": "code",
      "execution_count": 21,
      "metadata": {
        "id": "CzrTlTx_dCtH"
      },
      "outputs": [],
      "source": [
        "model = load_model('/content/drive/MyDrive/Colab Notebooks/model_final_multi-classification.h5') \n",
        "\n"
      ]
    },
    {
      "cell_type": "code",
      "source": [
        "img = keras.preprocessing.image.load_img(\n",
        "    \"/content/drive/MyDrive/Colab Notebooks/dataset/yes/y1179.jpg\", \n",
        "    target_size=image_size\n",
        ")\n",
        "img_array = keras.preprocessing.image.img_to_array(img)\n",
        "img_array = tf.expand_dims(img_array, 0)  # Create batch axis\n",
        "predictions = model.predict(img_array)\n",
        "score = predictions[0]\n",
        "print(score)"
      ],
      "metadata": {
        "colab": {
          "base_uri": "https://localhost:8080/"
        },
        "id": "yon3krSbj4Fa",
        "outputId": "fe0f4537-0611-4a36-c3ac-2340d4bc86f9"
      },
      "execution_count": 22,
      "outputs": [
        {
          "output_type": "stream",
          "name": "stdout",
          "text": [
            "[-0.7802933   0.7334533  -0.51848346]\n"
          ]
        }
      ]
    },
    {
      "cell_type": "code",
      "source": [
        "batch = 32"
      ],
      "metadata": {
        "id": "sji0bO4ZmqrR"
      },
      "execution_count": 23,
      "outputs": []
    },
    {
      "cell_type": "code",
      "source": [
        "test = tf.keras.preprocessing.image_dataset_from_directory(\n",
        "        \"/content/drive/MyDrive/Colab Notebooks/dataset/Testing\",\n",
        "            seed = 42,\n",
        "            \n",
        "            batch_size = batch)"
      ],
      "metadata": {
        "colab": {
          "base_uri": "https://localhost:8080/"
        },
        "id": "pjVjjegAmPEd",
        "outputId": "ec532042-848d-4bcb-9ad7-8ce0e98d731a"
      },
      "execution_count": 24,
      "outputs": [
        {
          "output_type": "stream",
          "name": "stdout",
          "text": [
            "Found 289 files belonging to 3 classes.\n"
          ]
        }
      ]
    },
    {
      "cell_type": "code",
      "source": [
        "test = test.prefetch(buffer_size=32)"
      ],
      "metadata": {
        "id": "HR0SB-3zm9OW"
      },
      "execution_count": 25,
      "outputs": []
    },
    {
      "cell_type": "code",
      "source": [
        "import numpy as np\n",
        "img = keras.preprocessing.image.load_img(\n",
        "    \"/content/drive/MyDrive/Colab Notebooks/dataset/BrainTumor/meningioma/101.jpg\", \n",
        "    target_size=image_size\n",
        "    )\n",
        "img_array = keras.preprocessing.image.img_to_array(img)\n",
        "img_array = tf.expand_dims(img_array, 0)  # Create batch axis\n",
        "\n",
        "predictions = np.argmax(model.predict(img_array))\n",
        "print(class_names[predictions])"
      ],
      "metadata": {
        "colab": {
          "base_uri": "https://localhost:8080/"
        },
        "id": "6c0islN141Ou",
        "outputId": "86fbce72-195e-4a72-dbfe-b087a5939453"
      },
      "execution_count": 26,
      "outputs": [
        {
          "output_type": "stream",
          "name": "stdout",
          "text": [
            "glioma\n"
          ]
        }
      ]
    },
    {
      "cell_type": "code",
      "source": [
        "results = model.evaluate(test)\n",
        "print(\"test loss, test acc:\", results)"
      ],
      "metadata": {
        "colab": {
          "base_uri": "https://localhost:8080/"
        },
        "id": "9w68LtEwngSg",
        "outputId": "121bc05d-c39a-4dbd-d6fe-619f0d0bf197"
      },
      "execution_count": 27,
      "outputs": [
        {
          "output_type": "stream",
          "name": "stdout",
          "text": [
            "10/10 [==============================] - 61s 6s/step - loss: 1.6399 - accuracy: 0.4740\n",
            "test loss, test acc: [1.6399195194244385, 0.4740484356880188]\n"
          ]
        }
      ]
    },
    {
      "cell_type": "code",
      "source": [
        "labels_entire = []\n",
        "pred_entire = []\n",
        "for image_batch,label_batch in test.as_numpy_iterator():\n",
        "    prediction = model.predict_on_batch(image_batch).flatten()\n",
        "\n",
        "    # Apply a sigmoid since our model returns logits\n",
        "    predictions = tf.nn.sigmoid(prediction).numpy()\n",
        "\n",
        "    n = 0\n",
        "    predict = []\n",
        "    while n<=(predictions.shape[0]-3):\n",
        "        pred = np.argmax(predictions[n:n+3]) #Returns the index of the largest element in the selected subarray\n",
        "        n+=3\n",
        "        pred_entire.append(pred)\n",
        "    for el in label_batch:\n",
        "        labels_entire.append(el)\n",
        "pred_entire = np.array(pred_entire)\n",
        "labels_entire = np.array(labels_entire)\n",
        "print(pred_entire)\n",
        "print(labels_entire)"
      ],
      "metadata": {
        "colab": {
          "base_uri": "https://localhost:8080/"
        },
        "id": "jFOcONoZ6yPO",
        "outputId": "fef1ad5f-b307-4581-def2-7f15c33dc8d4"
      },
      "execution_count": 28,
      "outputs": [
        {
          "output_type": "stream",
          "name": "stdout",
          "text": [
            "[0 1 2 0 2 0 2 2 2 0 2 0 0 1 2 0 1 2 2 2 0 1 2 0 0 0 2 0 2 0 0 2 2 2 2 1 2\n",
            " 2 0 2 1 1 2 2 2 1 0 0 1 0 1 1 2 1 2 1 1 2 1 2 0 1 0 0 2 0 1 1 1 2 2 1 0 0\n",
            " 0 0 2 2 1 2 2 0 2 1 2 2 1 2 0 0 2 2 1 2 1 1 0 0 2 2 1 2 2 2 2 1 2 1 2 0 1\n",
            " 2 1 1 0 2 2 2 2 0 1 0 2 1 0 2 2 1 2 1 0 1 0 0 2 2 0 0 0 1 2 1 2 0 2 2 0 2\n",
            " 2 2 1 0 0 1 0 0 2 0 0 1 0 1 1 2 2 1 2 0 2 1 2 2 2 2 0 1 2 2 0 2 0 0 1 2 1\n",
            " 2 2 0 0 1 2 2 2 2 2 0 2 2 2 0 2 1 0 2 1 0 0 0 2 2 1 2 2 1 0 2 2 0 1 2 1 2\n",
            " 0 2 1 0 0 1 2 1 0 2 1 2 2 2 0 1 0 2 0 1 2 0 2 0 2 0 0 0 2 2 1 1 2 2 2 2 0\n",
            " 1 2 2 2 2 0 2 2 2 2 2 2 0 0 2 2 2 2 1 0 2 2 1 1 2 1 0 2 2 1]\n",
            "[0 0 1 0 0 2 2 1 1 0 2 0 1 1 1 0 0 0 2 1 0 1 0 0 0 0 2 1 0 0 0 1 1 1 2 1 1\n",
            " 2 1 0 2 1 0 1 1 1 0 0 0 1 1 1 0 0 0 0 1 2 0 2 0 2 0 1 2 1 2 0 1 1 2 2 0 1\n",
            " 0 0 0 2 0 1 1 1 1 1 1 2 0 1 1 0 2 2 1 2 0 0 1 0 1 0 1 0 1 1 2 1 0 1 1 0 1\n",
            " 1 0 2 0 1 1 0 2 0 1 0 2 2 0 1 2 2 2 0 1 0 0 0 2 2 1 0 1 1 1 2 2 1 2 1 0 1\n",
            " 2 2 0 0 0 1 1 0 1 1 0 1 1 2 1 2 0 1 2 0 2 1 2 1 2 2 0 0 1 1 0 1 0 0 1 1 0\n",
            " 2 2 1 0 2 2 0 0 2 0 1 1 1 1 1 2 1 0 1 1 1 1 0 1 2 1 2 2 2 1 1 0 0 2 2 0 1\n",
            " 0 1 1 2 1 2 2 0 1 1 1 2 1 2 0 0 1 0 0 0 0 0 0 1 1 0 1 1 2 1 0 2 2 1 2 2 0\n",
            " 2 2 1 1 2 1 1 2 0 2 2 1 0 0 2 0 2 0 1 1 1 2 0 0 1 1 1 0 2 0]\n"
          ]
        }
      ]
    },
    {
      "cell_type": "code",
      "source": [
        "from sklearn.metrics import classification_report, multilabel_confusion_matrix\n",
        "print(classification_report(labels_entire, pred_entire, target_names=class_names))"
      ],
      "metadata": {
        "colab": {
          "base_uri": "https://localhost:8080/"
        },
        "id": "9aKbzqrvndMq",
        "outputId": "ffa63cb7-941c-4252-c278-0b9531f494dc"
      },
      "execution_count": 29,
      "outputs": [
        {
          "output_type": "stream",
          "name": "stdout",
          "text": [
            "              precision    recall  f1-score   support\n",
            "\n",
            "  meningioma       0.60      0.50      0.54       100\n",
            "      glioma       0.43      0.26      0.32       115\n",
            "   pituitary       0.42      0.77      0.55        74\n",
            "\n",
            "    accuracy                           0.47       289\n",
            "   macro avg       0.48      0.51      0.47       289\n",
            "weighted avg       0.48      0.47      0.46       289\n",
            "\n"
          ]
        }
      ]
    },
    {
      "cell_type": "code",
      "source": [
        "from sklearn.metrics import precision_score, accuracy_score, recall_score, f1_score\n",
        "print(f\"Accuracy: {round(accuracy_score(labels_entire, pred_entire), 2)}\") \n"
      ],
      "metadata": {
        "colab": {
          "base_uri": "https://localhost:8080/"
        },
        "id": "vAPgT7ouOR7k",
        "outputId": "b8436a45-a1d1-4aa3-83b7-fb6f2dc97e50"
      },
      "execution_count": 30,
      "outputs": [
        {
          "output_type": "stream",
          "name": "stdout",
          "text": [
            "Accuracy: 0.47\n"
          ]
        }
      ]
    },
    {
      "cell_type": "code",
      "source": [
        "#print(f\"Precision: {round(precision_score(labels_entire, pred_entire), 2)}\")\n",
        "#print(f\"Recall: {round(recall_score(labels_entire, pred_entire), 2)}\")\n",
        "#print(f\"F1_score: {round(f1_score(labels_entire, pred_entire), 2)}\")"
      ],
      "metadata": {
        "id": "FygALaxEQWvl"
      },
      "execution_count": 31,
      "outputs": []
    },
    {
      "cell_type": "code",
      "source": [
        "from sklearn.metrics import confusion_matrix\n",
        "\n",
        "arr = confusion_matrix(labels_entire, pred_entire)\n",
        "df_cm = pd.DataFrame(arr, class_names, class_names)\n",
        "plt.figure(figsize = (9,6))\n",
        "sns.heatmap(df_cm, annot=True, fmt=\"d\", cmap='viridis')\n",
        "plt.xlabel(\"Prediction\")\n",
        "plt.ylabel(\"Target\")\n",
        "plt.show()"
      ],
      "metadata": {
        "colab": {
          "base_uri": "https://localhost:8080/",
          "height": 388
        },
        "id": "XHJqTxP4kxMo",
        "outputId": "83475390-e714-4e6c-8175-18800e1c5e06"
      },
      "execution_count": 32,
      "outputs": [
        {
          "output_type": "display_data",
          "data": {
            "text/plain": [
              "<Figure size 648x432 with 2 Axes>"
            ],
            "image/png": "[encoded data removed]"
          },
          "metadata": {
            "needs_background": "light"
          }
        }
      ]
    }
  ]
}